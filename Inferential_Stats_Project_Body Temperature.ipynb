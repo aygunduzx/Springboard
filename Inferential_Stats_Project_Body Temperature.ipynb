{
 "cells": [
  {
   "cell_type": "markdown",
   "metadata": {},
   "source": [
    "# What is the True Normal Human Body Temperature? \n",
    "\n",
    "#### Background\n",
    "\n",
    "The mean normal body temperature was held to be 37$^{\\circ}$C or 98.6$^{\\circ}$F for more than 120 years since it was first conceptualized and reported by Carl Wunderlich in a famous 1868 book. But, is this value statistically correct?"
   ]
  },
  {
   "cell_type": "markdown",
   "metadata": {},
   "source": [
    "<h3>Exercises</h3>\n",
    "\n",
    "<p>In this exercise, you will analyze a dataset of human body temperatures and employ the concepts of hypothesis testing, confidence intervals, and statistical significance.</p>\n",
    "\n",
    "<p>Answer the following questions <b>in this notebook below and submit to your Github account</b>.</p> \n",
    "\n",
    "<ol>\n",
    "<li>  Is the distribution of body temperatures normal? \n",
    "    <ul>\n",
    "    <li> Although this is not a requirement for the Central Limit Theorem to hold (read the introduction on Wikipedia's page about the CLT carefully: https://en.wikipedia.org/wiki/Central_limit_theorem), it gives us some peace of mind that the population may also be normally distributed if we assume that this sample is representative of the population.\n",
    "    <li> Think about the way you're going to check for the normality of the distribution. Graphical methods are usually used first, but there are also other ways: https://en.wikipedia.org/wiki/Normality_test\n",
    "    </ul>\n",
    "<li>  Is the sample size large? Are the observations independent?\n",
    "    <ul>\n",
    "    <li> Remember that this is a condition for the Central Limit Theorem, and hence the statistical tests we are using, to apply.\n",
    "    </ul>\n",
    "<li>  Is the true population mean really 98.6 degrees F?\n",
    "    <ul>\n",
    "    <li> First, try a bootstrap hypothesis test.\n",
    "    <li> Now, let's try frequentist statistical testing. Would you use a one-sample or two-sample test? Why?\n",
    "    <li> In this situation, is it appropriate to use the $t$ or $z$ statistic? \n",
    "    <li> Now try using the other test. How is the result be different? Why?\n",
    "    </ul>\n",
    "<li>  Draw a small sample of size 10 from the data and repeat both frequentist tests. \n",
    "    <ul>\n",
    "    <li> Which one is the correct one to use? \n",
    "    <li> What do you notice? What does this tell you about the difference in application of the $t$ and $z$ statistic?\n",
    "    </ul>\n",
    "<li>  At what temperature should we consider someone's temperature to be \"abnormal\"?\n",
    "    <ul>\n",
    "    <li> As in the previous example, try calculating everything using the boostrap approach, as well as the frequentist approach.\n",
    "    <li> Start by computing the margin of error and confidence interval. When calculating the confidence interval, keep in mind that you should use the appropriate formula for one draw, and not N draws.\n",
    "    </ul>\n",
    "<li>  Is there a significant difference between males and females in normal temperature?\n",
    "    <ul>\n",
    "    <li> What testing approach did you use and why?\n",
    "    <li> Write a story with your conclusion in the context of the original problem.\n",
    "    </ul>\n",
    "</ol>\n",
    "\n",
    "You can include written notes in notebook cells using Markdown: \n",
    "   - In the control panel at the top, choose Cell > Cell Type > Markdown\n",
    "   - Markdown syntax: http://nestacms.com/docs/creating-content/markdown-cheat-sheet\n",
    "\n",
    "#### Resources\n",
    "\n",
    "+ Information and data sources: http://www.amstat.org/publications/jse/datasets/normtemp.txt, http://www.amstat.org/publications/jse/jse_data_archive.htm\n",
    "+ Markdown syntax: http://nestacms.com/docs/creating-content/markdown-cheat-sheet\n",
    "\n",
    "****"
   ]
  },
  {
   "cell_type": "code",
   "execution_count": 49,
   "metadata": {},
   "outputs": [],
   "source": [
    "import pandas as pd\n",
    "import numpy as np\n",
    "import matplotlib.pyplot as plt\n",
    "%matplotlib inline\n",
    "import seaborn as sns\n",
    "from scipy import stats\n"
   ]
  },
  {
   "cell_type": "code",
   "execution_count": 50,
   "metadata": {},
   "outputs": [],
   "source": [
    "df = pd.read_csv('data/human_body_temperature.csv')"
   ]
  },
  {
   "cell_type": "code",
   "execution_count": 51,
   "metadata": {},
   "outputs": [
    {
     "name": "stdout",
     "output_type": "stream",
     "text": [
      "<class 'pandas.core.frame.DataFrame'>\n",
      "RangeIndex: 130 entries, 0 to 129\n",
      "Data columns (total 3 columns):\n",
      "temperature    130 non-null float64\n",
      "gender         130 non-null object\n",
      "heart_rate     130 non-null float64\n",
      "dtypes: float64(2), object(1)\n",
      "memory usage: 3.1+ KB\n"
     ]
    }
   ],
   "source": [
    "df.info()"
   ]
  },
  {
   "cell_type": "code",
   "execution_count": 52,
   "metadata": {},
   "outputs": [
    {
     "data": {
      "text/html": [
       "<div>\n",
       "<style scoped>\n",
       "    .dataframe tbody tr th:only-of-type {\n",
       "        vertical-align: middle;\n",
       "    }\n",
       "\n",
       "    .dataframe tbody tr th {\n",
       "        vertical-align: top;\n",
       "    }\n",
       "\n",
       "    .dataframe thead th {\n",
       "        text-align: right;\n",
       "    }\n",
       "</style>\n",
       "<table border=\"1\" class=\"dataframe\">\n",
       "  <thead>\n",
       "    <tr style=\"text-align: right;\">\n",
       "      <th></th>\n",
       "      <th>temperature</th>\n",
       "      <th>gender</th>\n",
       "      <th>heart_rate</th>\n",
       "    </tr>\n",
       "  </thead>\n",
       "  <tbody>\n",
       "    <tr>\n",
       "      <th>0</th>\n",
       "      <td>99.3</td>\n",
       "      <td>F</td>\n",
       "      <td>68.0</td>\n",
       "    </tr>\n",
       "    <tr>\n",
       "      <th>1</th>\n",
       "      <td>98.4</td>\n",
       "      <td>F</td>\n",
       "      <td>81.0</td>\n",
       "    </tr>\n",
       "    <tr>\n",
       "      <th>2</th>\n",
       "      <td>97.8</td>\n",
       "      <td>M</td>\n",
       "      <td>73.0</td>\n",
       "    </tr>\n",
       "    <tr>\n",
       "      <th>3</th>\n",
       "      <td>99.2</td>\n",
       "      <td>F</td>\n",
       "      <td>66.0</td>\n",
       "    </tr>\n",
       "    <tr>\n",
       "      <th>4</th>\n",
       "      <td>98.0</td>\n",
       "      <td>F</td>\n",
       "      <td>73.0</td>\n",
       "    </tr>\n",
       "  </tbody>\n",
       "</table>\n",
       "</div>"
      ],
      "text/plain": [
       "   temperature gender  heart_rate\n",
       "0         99.3      F        68.0\n",
       "1         98.4      F        81.0\n",
       "2         97.8      M        73.0\n",
       "3         99.2      F        66.0\n",
       "4         98.0      F        73.0"
      ]
     },
     "execution_count": 52,
     "metadata": {},
     "output_type": "execute_result"
    }
   ],
   "source": [
    "df.head()"
   ]
  },
  {
   "cell_type": "code",
   "execution_count": 53,
   "metadata": {},
   "outputs": [
    {
     "data": {
      "text/plain": [
       "temperature    0\n",
       "gender         0\n",
       "heart_rate     0\n",
       "dtype: int64"
      ]
     },
     "execution_count": 53,
     "metadata": {},
     "output_type": "execute_result"
    }
   ],
   "source": [
    "df.isnull().sum()"
   ]
  },
  {
   "cell_type": "code",
   "execution_count": 54,
   "metadata": {},
   "outputs": [
    {
     "name": "stdout",
     "output_type": "stream",
     "text": [
      "       temperature  heart_rate\n",
      "count   130.000000  130.000000\n",
      "mean     98.249231   73.761538\n",
      "std       0.733183    7.062077\n",
      "min      96.300000   57.000000\n",
      "25%      97.800000   69.000000\n",
      "50%      98.300000   74.000000\n",
      "75%      98.700000   79.000000\n",
      "max     100.800000   89.000000\n"
     ]
    }
   ],
   "source": [
    "print(df.describe())"
   ]
  },
  {
   "cell_type": "code",
   "execution_count": 55,
   "metadata": {},
   "outputs": [
    {
     "name": "stdout",
     "output_type": "stream",
     "text": [
      "The statistics of the female data set:\n",
      "       temperature  heart_rate\n",
      "count    65.000000   65.000000\n",
      "mean     98.393846   74.153846\n",
      "std       0.743488    8.105227\n",
      "min      96.400000   57.000000\n",
      "25%      98.000000   68.000000\n",
      "50%      98.400000   76.000000\n",
      "75%      98.800000   80.000000\n",
      "max     100.800000   89.000000\n"
     ]
    }
   ],
   "source": [
    "print('The statistics of the female data set:')\n",
    "print(df[df.gender=='F'].describe())"
   ]
  },
  {
   "cell_type": "code",
   "execution_count": 56,
   "metadata": {},
   "outputs": [
    {
     "name": "stdout",
     "output_type": "stream",
     "text": [
      "The statistics of the male data set:\n",
      "       temperature  heart_rate\n",
      "count    65.000000   65.000000\n",
      "mean     98.104615   73.369231\n",
      "std       0.698756    5.875184\n",
      "min      96.300000   58.000000\n",
      "25%      97.600000   70.000000\n",
      "50%      98.100000   73.000000\n",
      "75%      98.600000   78.000000\n",
      "max      99.500000   86.000000\n"
     ]
    }
   ],
   "source": [
    "print('The statistics of the male data set:')\n",
    "print(df[df.gender=='M'].describe())"
   ]
  },
  {
   "cell_type": "code",
   "execution_count": 57,
   "metadata": {},
   "outputs": [
    {
     "data": {
      "image/png": "[encoded data removed]",
      "text/plain": [
       "<Figure size 720x504 with 1 Axes>"
      ]
     },
     "metadata": {
      "needs_background": "light"
     },
     "output_type": "display_data"
    }
   ],
   "source": [
    "plt.figure(figsize = (10,7))\n",
    "_ = sns.swarmplot(x = 'gender', y = 'temperature', data = df)\n",
    "_ = sns.boxplot(x = 'gender', y = 'temperature', data = df, boxprops = {'facecolor':'None'})\n",
    "_ = plt.title('Gender and Body Temperature Swarm-Box Plot')\n",
    "_ = plt.xlabel('Gender')\n",
    "_ = plt.ylabel('Body Temperature($^.\\circ$F)')"
   ]
  },
  {
   "cell_type": "code",
   "execution_count": 58,
   "metadata": {},
   "outputs": [
    {
     "data": {
      "image/png": "[encoded data removed]",
      "text/plain": [
       "<Figure size 720x504 with 1 Axes>"
      ]
     },
     "metadata": {
      "needs_background": "light"
     },
     "output_type": "display_data"
    }
   ],
   "source": [
    "plt.figure(figsize = (10,7))\n",
    "_ = sns.swarmplot(x = 'gender', y = 'heart_rate', data = df)\n",
    "_ = sns.boxplot(x = 'gender', y = 'heart_rate', data = df, boxprops = {'facecolor':'None'})\n",
    "_ = plt.title('Gender and Heart Rate Swarm-Box Plot')\n",
    "_ = plt.xlabel('Gender')\n",
    "_ = plt.ylabel('Heart Rate')"
   ]
  },
  {
   "cell_type": "markdown",
   "metadata": {},
   "source": [
    "## 1. Is the Distribution of Body Temperature Normal?\n",
    "\n",
    "\n"
   ]
  },
  {
   "cell_type": "code",
   "execution_count": 64,
   "metadata": {},
   "outputs": [
    {
     "name": "stderr",
     "output_type": "stream",
     "text": [
      "C:\\Users\\asus\\Anaconda3\\lib\\site-packages\\scipy\\stats\\stats.py:1713: FutureWarning: Using a non-tuple sequence for multidimensional indexing is deprecated; use `arr[tuple(seq)]` instead of `arr[seq]`. In the future this will be interpreted as an array index, `arr[np.array(seq)]`, which will result either in an error or a different result.\n",
      "  return np.add.reduce(sorted[indexer] * weights, axis=axis) / sumval\n"
     ]
    },
    {
     "data": {
      "image/png": "[encoded data removed]",
      "text/plain": [
       "<Figure size 432x288 with 2 Axes>"
      ]
     },
     "metadata": {
      "needs_background": "light"
     },
     "output_type": "display_data"
    }
   ],
   "source": [
    "# Create a figure with two plots:\n",
    "fig, (boxplot, histogram) = plt.subplots(2, sharex=True, gridspec_kw={\"height_ratios\": (.15, .85)})\n",
    " \n",
    "# Add boxplot for temperature:\n",
    "sns.boxplot(df.temperature, ax = boxplot)\n",
    "\n",
    "# Add histogram for temperature:\n",
    "sns.distplot(df.temperature, ax = histogram)\n",
    "\n",
    "# Label axes and add title:\n",
    "plt.xlabel('Temperature ($^\\circ$F)', fontsize=10)\n",
    "plt.ylabel('PDF')\n",
    "plt.title('Distribution of Body Temperatures', fontsize=14)\n",
    "\n",
    "# Remove x-axis label for the boxplot:\n",
    "boxplot.set(xlabel = \" \")\n",
    "\n",
    "# Display the plots:\n",
    "plt.show()"
   ]
  },
  {
   "cell_type": "code",
   "execution_count": 29,
   "metadata": {},
   "outputs": [
    {
     "data": {
      "image/png": "[encoded data removed]",
      "text/plain": [
       "<Figure size 432x288 with 1 Axes>"
      ]
     },
     "metadata": {
      "needs_background": "light"
     },
     "output_type": "display_data"
    }
   ],
   "source": [
    "# Compute CDFs\n",
    "x_temp, y_temp = ecdf(df.temperature)\n",
    "x_norm, y_norm = ecdf(normal)\n",
    "\n",
    "# Plot both CDFs on the same plot\n",
    "_ = plt.plot(x_norm, y_norm)\n",
    "_ = plt.plot(x_temp, y_temp, marker = '.', linestyle = 'none')\n",
    "\n",
    "# Label axes and and add legend/title\n",
    "_ = plt.xlabel('Temperature ($^\\circ$F)', fontsize=14)\n",
    "_ = plt.ylabel('CDF')\n",
    "_ = plt.legend(('Theoretical Normal CDF', 'Sample CDF'), loc = 'center right')\n",
    "_ = plt.title('CDF Confirming the Normal Distribution of Body Temperatures', fontsize=18)\n",
    "\n",
    "# Save and display the plots\n",
    "plt.savefig('cdf_body_temps.png')\n",
    "plt.show()"
   ]
  },
  {
   "cell_type": "code",
   "execution_count": 72,
   "metadata": {},
   "outputs": [
    {
     "name": "stdout",
     "output_type": "stream",
     "text": [
      "p = 0.2587479863488254\n"
     ]
    }
   ],
   "source": [
    "k2, p = stats.normaltest(df.temperature)\n",
    "print(\"p = {}\".format(p))"
   ]
  },
  {
   "cell_type": "code",
   "execution_count": 73,
   "metadata": {},
   "outputs": [
    {
     "name": "stdout",
     "output_type": "stream",
     "text": [
      "Distribution of Body Temperature is Normal\n"
     ]
    }
   ],
   "source": [
    "alpha = 0.05\n",
    "if p < alpha:  # null hypothesis: x comes from a normal distribution\n",
    "    print(\"Distribution of Body Temperature iS NOT Normal\")\n",
    "else:\n",
    "    print(\"Distribution of Body Temperature is Normal\")"
   ]
  },
  {
   "cell_type": "markdown",
   "metadata": {},
   "source": [
    "\n",
    "Conclusion:\n",
    "\n",
    "The distribution of the observations is symmetrical, bell-shaped, and the CDF of the sample data is closely aligned. Also68% of the observations are within 1 standard deviation, 95% of observations are within 2 standard deviations and 99% of observations are within 3 standard deviations. Distribution of the body temperature is normal.\n"
   ]
  },
  {
   "cell_type": "markdown",
   "metadata": {},
   "source": [
    "\n",
    "# 2. Is the sample size large? Are the observations independent?\n"
   ]
  },
  {
   "cell_type": "markdown",
   "metadata": {},
   "source": [
    "\n",
    "According to central limit theorem, our sample should be at least 30. Since the sample size is 130 here, it is adequate and observations are independent."
   ]
  },
  {
   "cell_type": "markdown",
   "metadata": {},
   "source": [
    "# 3. Is the true population mean really 98.6 degrees F?\n",
    "## a. First try a bootstrap hypothesis test.\n",
    "To investigate this question, we need to frame our hypothesis for testing.\n",
    "\n",
    "(The null hypothesis) Ho: The population mean temperature = 98.6 F (Ho: μ1 = μ2)\n",
    "\n",
    "(The alternative hypothesis) Ha: The population mean temperature ≠ 98.6 F (H1: μ1 ≠ μ)\n",
    "¶ "
   ]
  },
  {
   "cell_type": "code",
   "execution_count": 37,
   "metadata": {},
   "outputs": [],
   "source": [
    "# Define bootsrap functions\n",
    "\n",
    "def replicate(data, func):\n",
    "    \"\"\"Return replicate of a resampled data array\"\"\"\n",
    "    \n",
    "    # Create the resampled array and return the statistic of interest\n",
    "    return func(np.random.choice(data, size=len(data)))   \n",
    "\n",
    "def draw_replicates(data, func, size=1):\n",
    "    \"\"\"Draw bootstrap replicate\"\"\"\n",
    "    \n",
    "    # Initialize array of replicates\n",
    "    replicates = np.empty(size)\n",
    "    \n",
    "    # Generate replicates\n",
    "    for i in range(size):\n",
    "            replicates[i] = replicate(data, func)            \n",
    "    return replicates"
   ]
  },
  {
   "cell_type": "code",
   "execution_count": 38,
   "metadata": {},
   "outputs": [
    {
     "name": "stderr",
     "output_type": "stream",
     "text": [
      "C:\\Users\\asus\\Anaconda3\\lib\\site-packages\\scipy\\stats\\stats.py:1713: FutureWarning: Using a non-tuple sequence for multidimensional indexing is deprecated; use `arr[tuple(seq)]` instead of `arr[seq]`. In the future this will be interpreted as an array index, `arr[np.array(seq)]`, which will result either in an error or a different result.\n",
      "  return np.add.reduce(sorted[indexer] * weights, axis=axis) / sumval\n"
     ]
    },
    {
     "data": {
      "image/png": "[encoded data removed]",
      "text/plain": [
       "<Figure size 864x576 with 1 Axes>"
      ]
     },
     "metadata": {},
     "output_type": "display_data"
    }
   ],
   "source": [
    "temp_np_arr = np.array(df['temperature'])\n",
    "replicates  = draw_replicates(temp_np_arr, np.mean, 10000)\n",
    "plt.figure(figsize=(12,8))\n",
    "sns.distplot(replicates, rug='True', bins=20, color = 'red')\n",
    "plt.xlabel(' Mean Temperature ($^\\circ$F)', fontsize=14)\n",
    "plt.ylabel('PDF ', fontsize=14)\n",
    "plt.title('Distribution of Mean Temperature', fontsize=16)\n",
    "plt.show()"
   ]
  },
  {
   "cell_type": "code",
   "execution_count": 39,
   "metadata": {},
   "outputs": [
    {
     "name": "stdout",
     "output_type": "stream",
     "text": [
      "95% confidence interval = [98.12307692 98.37384615]\n"
     ]
    }
   ],
   "source": [
    "# Compute the confidence interval\n",
    "conf_int = np.percentile(replicates,[2.5, 97.5])\n",
    "\n",
    "# Print the confidence interval\n",
    "print('95% confidence interval =', conf_int)"
   ]
  },
  {
   "cell_type": "code",
   "execution_count": 40,
   "metadata": {},
   "outputs": [
    {
     "name": "stdout",
     "output_type": "stream",
     "text": [
      "p-value =  0.0\n"
     ]
    }
   ],
   "source": [
    "# Compute the p-value\n",
    "p = np.sum(replicates >= 98.6) / len(replicates)\n",
    "print ('p-value = ', p)"
   ]
  },
  {
   "cell_type": "markdown",
   "metadata": {},
   "source": [
    "### Conclusion for the bootstrap hypothesis test:\n",
    "\n",
    "Since p-value is less than 0.05, we reject the null hypothesis in favor of the alternative hypothesis that the poulation mean differs from 98.6 F. Based on the 95% confidence interval, temperatures between 98.12 and 98.37 are considered normal.\n"
   ]
  },
  {
   "cell_type": "markdown",
   "metadata": {},
   "source": [
    "### b. Try frequentist statistical testing. Would you use a one-sample or two-sample test? Why?\n",
    "\n",
    "For this test, we will use a one-sample test since we are only given one sample data set. I have determined the hypothesis (with a confidence level of 95% as follows:\n",
    "\n",
    "    (The null hypothesis) Ho: The population mean temperature = 98.6 F   (Ho: μ1 = μ2)\n",
    "\n",
    "    (The alternative hypothesis) Ha: The population mean temperature ≠ 98.6 F  (H1: μ1 ≠ μ)\n",
    "\n",
    "For this situation, we will be computing a t-test since we are comparing our sample mean (98.25) against a proposed population mean (98.6). For the test, we will reject the null hypothesis if the test statistic is greater than 1.96 standard deviations or outside of a 95% confidence level).\n"
   ]
  },
  {
   "cell_type": "code",
   "execution_count": 41,
   "metadata": {},
   "outputs": [
    {
     "name": "stdout",
     "output_type": "stream",
     "text": [
      "t-statistic: -5.4548232923645195\n",
      "p-value: 2.4106320415561276e-07\n"
     ]
    }
   ],
   "source": [
    "# Use one-sample test with the null hypothesis that true population mean is 98.6\n",
    "# Since we do not know the population standard deviation, we will use t-statistic. \n",
    "\n",
    "t, p = stats.ttest_1samp(df.temperature, 98.6)\n",
    "print('t-statistic:', t)\n",
    "print('p-value:', p)"
   ]
  },
  {
   "cell_type": "markdown",
   "metadata": {},
   "source": [
    "\n",
    "Conclusion:\n",
    "\n",
    "Our test returns a t-statistic of 5.45. This means that we would observe a mean of 98.6 at 5.45 standard deviations from our sample mean.\n",
    "\n",
    "Furthermore, our P-value can be considered very small and suggests a very low probability of observing a body temperature of 98.6 or greater.\n",
    "\n",
    "As we increase our sample size, our t-test will converge to yield a similar result as a z-test.\n",
    "\n",
    "In the below test, we arrive to the same conclusion as the z-statistic suggests that a population mean of 98.6 would be observed more than 5 standard deviations from a population mean as determined by our sample. We find that our p-value in this test is even smaller than our t-test and suggests an even smaller probability that we would observe a population mean greater than 98.6\n"
   ]
  },
  {
   "cell_type": "code",
   "execution_count": 42,
   "metadata": {},
   "outputs": [
    {
     "name": "stdout",
     "output_type": "stream",
     "text": [
      "z-statistic: -5.475925202078116\n",
      "p-value: 4.3523151658821886e-08\n"
     ]
    }
   ],
   "source": [
    "# Calculate standard error of the mean:\n",
    "sem = s/np.sqrt(n)\n",
    "\n",
    "# Calculate and save z-statistic:\n",
    "z = (M - 98.6) / sem\n",
    "\n",
    "# Calculate and save p-value:\n",
    "p = stats.norm.cdf(z) * 2\n",
    "\n",
    "# Print the values for z and p:\n",
    "print('z-statistic:', z)\n",
    "print('p-value:', p)"
   ]
  },
  {
   "cell_type": "markdown",
   "metadata": {},
   "source": [
    "\n",
    "\n",
    "As expected, the z-statistic is very close to the t-statistic and the p-value is also very low. Both z and t test yields the same result that the confidence interval do not contain 98.6, therefore giving us the same result.\n",
    "## c. In this situation, is it appropriate to use the t or z statistics?\n",
    "\n",
    "We have 130 records which is sufficient to implement central limit theorem. In that case, we may use z test here. Though a t-test is best for small samples, it becomes similar to the z-test with large samples, so the results does not differ much as it may be seen above.\n",
    "## d. Try using the other test. How is the result be different? Why?\n",
    "\n",
    "Actually, this question's answer was given above. I tried t and z test. In every test the p-value is significantly less than significance level (0.05), so the null hypothesis is rejected. There is sufficient evidence to warrant rejection of the claim that the true population mean is the normal human body temperature of 98.6°F.\n",
    "# 4. Draw a small sample of size 10 from the data and repeat both frequentist tests.\n",
    "## a. Which one is the correct one to use?\n",
    "\n",
    "This test meets the criteria for a t-test: the population standard deviation is unkown and the sample size is small.\n",
    "## b. What is noticeable? What does this say about the difference in application of the t and z statistic?"
   ]
  },
  {
   "cell_type": "markdown",
   "metadata": {},
   "source": [
    "\n",
    "t-statistic:\n"
   ]
  },
  {
   "cell_type": "code",
   "execution_count": 43,
   "metadata": {},
   "outputs": [
    {
     "name": "stdout",
     "output_type": "stream",
     "text": [
      "p-value: 0.1965\n",
      "t-statistic = 0.38304123159222914\n"
     ]
    }
   ],
   "source": [
    "# Randomly select a size 10 array: \n",
    "temp_array_sub = np.random.choice(temp_np_arr, size=10, replace=True)\n",
    "\n",
    "# Make an array of translated sample temperatures: translated_temp_sub\n",
    "translated_temp_sub = temp_array_sub - np.mean(temp_array_sub) + 98.6\n",
    "\n",
    "# Take bootstrap replicates of sampled body temperatures: temp_replicates_sub\n",
    "temp_replicates_sub = draw_replicates(translated_temp_sub, np.mean, 10000)\n",
    "\n",
    "# Compute fraction of replicates that are less than sampled body temperatures: p\n",
    "p = np.sum(temp_replicates_sub <= np.mean(temp_array_sub)) / float(10000)\n",
    "\n",
    "# Print the p-value\n",
    "print ('p-value: {}'.format(p))\n",
    "\n",
    "# t-test work \n",
    "sample_mean = np.mean(temp_array_sub) \n",
    "sample_std  = np.std(temp_array_sub)\n",
    "sample_size = len(temp_array_sub)\n",
    "mu_0 = 98.6\n",
    "t_statistic = (sample_mean - mu_0) / (sample_std / sample_size**0.5)\n",
    "\n",
    "from scipy import stats\n",
    "# Multiply by two for the two tailed test\n",
    "t_result = stats.norm.sf(abs(t_statistic))*2\n",
    "print('t-statistic = {}'.format(t_result))"
   ]
  },
  {
   "cell_type": "markdown",
   "metadata": {},
   "source": [
    "\n",
    "z-statistic:¶\n"
   ]
  },
  {
   "cell_type": "code",
   "execution_count": 44,
   "metadata": {},
   "outputs": [
    {
     "name": "stdout",
     "output_type": "stream",
     "text": [
      "z-statistic = 0.38304123159222914\n"
     ]
    }
   ],
   "source": [
    "# To conduct a z test we assume the population std is the same as the sample std\n",
    "population_std = np.std(temp_array_sub)\n",
    "z_statistic = (sample_mean - mu_0) / (population_std / sample_size**0.5)\n",
    "z_result = stats.norm.sf(abs(z_statistic))*2\n",
    "print('z-statistic = {}'.format(z_result))"
   ]
  },
  {
   "cell_type": "markdown",
   "metadata": {},
   "source": [
    "\n",
    "### Conclusion:\n",
    "\n",
    "Each time once we run the code, we get different t, z statistics and p value since the sample size is too small to evaluate. Therefore z and t statistics are not reliable at this point.\n",
    "# 5. At what temperature should we consider someone's temperature to be \"abnormal\"?\n",
    "\n",
    "We will get a 95% confidence interval according to the normal distribution to find out the outliers.\n",
    "## a.Bootstrap Approach\n"
   ]
  },
  {
   "cell_type": "code",
   "execution_count": 45,
   "metadata": {},
   "outputs": [
    {
     "name": "stdout",
     "output_type": "stream",
     "text": [
      "95 % confidence interval = [98.12538462 98.37384615]\n"
     ]
    }
   ],
   "source": [
    "bs_replicates = draw_replicates(temp_np_arr, np.mean, 10000)\n",
    "\n",
    "# Compute the confidence interval\n",
    "conf_int = np.percentile(bs_replicates,[2.5, 97.5])\n",
    "\n",
    "# Print the confidence interval\n",
    "print('95 % confidence interval = {}'.format(conf_int))"
   ]
  },
  {
   "cell_type": "markdown",
   "metadata": {},
   "source": [
    "\n",
    "Conclusion:\n",
    "\n",
    "We would consider someone's body temperature lower than 98.12 or higher than 98.37 to be considered abnormal.\n",
    "### b.Frequentist Approach¶\n",
    "\n"
   ]
  },
  {
   "cell_type": "code",
   "execution_count": 46,
   "metadata": {},
   "outputs": [
    {
     "data": {
      "text/plain": [
       "(98.12200290560804, 98.37645863285351)"
      ]
     },
     "execution_count": 46,
     "metadata": {},
     "output_type": "execute_result"
    }
   ],
   "source": [
    "#Standard Error\n",
    "x = df.temperature\n",
    "\n",
    "# Sample Size\n",
    "# ddof = 1 is default -- Delta Degrees of Freedom\n",
    "n = len(x)\n",
    "SE = stats.sem(x, ddof = 1) \n",
    "#SE = (x.std()/np.sqrt(len(x)))\n",
    "\n",
    "# t-critical at 95% confidence Level with 129 degrees of freedom\n",
    "t_c = stats.t.ppf(0.975, df=n-1) \n",
    "\n",
    "# Margin of Error\n",
    "moe = t_c * SE\n",
    "\n",
    "# Confidence Interval\n",
    "Confidence_int = x.mean() - moe , x.mean() + moe\n",
    "Confidence_int"
   ]
  },
  {
   "cell_type": "markdown",
   "metadata": {},
   "source": [
    "\n",
    "Conclusion:\n",
    "\n",
    "We would consider someone's body temperature abnormal if it is out of interval stated above.\n",
    "# 6. Is there a significant difference between males and females in normal temperature?\n",
    "## a. What test is used and why?\n",
    "\n",
    "A two-sample t-test is also appropriate since the means of two independent samples are compared.\n"
   ]
  },
  {
   "cell_type": "code",
   "execution_count": 47,
   "metadata": {},
   "outputs": [
    {
     "name": "stdout",
     "output_type": "stream",
     "text": [
      "Female Sample Size: 65 \n",
      "Female Temperature Mean: 98.39384615384613\n",
      "\n",
      "Male Sample Size: 65 \n",
      "Male Temperature Mean: 98.1046153846154\n"
     ]
    }
   ],
   "source": [
    "# Sample Sizes:\n",
    "female_temp = df.temperature[df.gender == 'F']\n",
    "male_temp = df.temperature[df.gender == 'M']\n",
    "\n",
    "n_female = len(female_temp)\n",
    "n_male = len(male_temp)\n",
    "\n",
    "# Sample Means:\n",
    "M_female = np.mean(female_temp)\n",
    "M_male = np.mean(male_temp)\n",
    "\n",
    "print('Female Sample Size:', n_female, '\\nFemale Temperature Mean:', M_female)\n",
    "print('\\nMale Sample Size:', n_male, '\\nMale Temperature Mean:', M_male)"
   ]
  },
  {
   "cell_type": "markdown",
   "metadata": {},
   "source": [
    "\n",
    "\n",
    "There is a difference between the mean temperatures of females and males in the sample data, but a statistical analysis will help determine if the difference is significant.\n",
    "\n",
    "Null Hypothesis: There is no significant difference between female and male normal human body temperature.\n",
    "$$H_0: \\mu_{females} - \\mu_{males} = 0$$\n",
    "\n",
    "Significance Level: 95% Confidence\n",
    "$$\\alpha = 0.05$$\n",
    "2 Sample t-test:\n"
   ]
  },
  {
   "cell_type": "code",
   "execution_count": 48,
   "metadata": {},
   "outputs": [
    {
     "name": "stdout",
     "output_type": "stream",
     "text": [
      "Mean body temp of male samples:  98.1046153846154\n",
      "Mean body temp of female samples:  98.39384615384613\n",
      "The T-Statistic is 2 with a p-value of 0.023938264182934196\n"
     ]
    }
   ],
   "source": [
    "# We can again use a t-test as we are comparing the means from two samples\n",
    "male_temps = df.temperature[df.gender == 'M']\n",
    "female_temps = df.temperature[df.gender == 'F']\n",
    "\n",
    "print('Mean body temp of male samples: ', np.mean(male_temps))\n",
    "print('Mean body temp of female samples: ', np.mean(female_temps))\n",
    "\n",
    "gender_ttest, gender_pval = stats.ttest_ind(a=male_temps, b=female_temps, equal_var=False)\n",
    "print('The T-Statistic is %d with a p-value of %s' %(abs(gender_ttest), gender_pval))"
   ]
  },
  {
   "cell_type": "markdown",
   "metadata": {},
   "source": [
    "\n",
    "\n",
    "A two-sample t-test returned a t-statistic of 2 and p-value of 0.024, so here too, the null hypothesis is rejected. The difference in human body temperatures between females and males, though significant, is not extreme. Women tend to have a slightly higher body temperature.\n",
    "## b. Write a story with your conclusion in the context of the original problem.\n",
    "\n",
    "In this case, we examined the temperature of human body using graphical, bootstrapping and frequestist methods. As a summary:\n",
    "\n",
    "For this research, we have 65 males and 65 females whom we used their temperature and heart rate values to examine the temperature of human body. From this sample group, it is easily observable that females's body temperature and heart rate value are higher than males's at first glance.\n",
    "\n",
    "After implementing graphical and functional methods, we concluded that our 130 records show normal distribution which means that there is an integrity in sample data. It may give us meaningful insights and answers about questions at hand.\n",
    "\n",
    "We are unable to say confidently the observations are independent as it is not evident whether they are unique people (and thus independent) or just periodic sampling of one male and one female subject.\n",
    "\n",
    "When we compare the temperatures between these two groups, we observed that female temperatures have some outliers. Besides that, our research showed us that there is a possitive correlation between body temperature and heart rate. What does it mean? If both of them increases and decreases in the same time direction. But based on the data at hand, we can not say there is a causation between each other.\n",
    "\n",
    "We went beyond in our reserch and made an assumption about body temperature. Our hypothesis was true population mean is really 98.6 degrees F. We used the sample bootstrap and frequentist testing and our p value which gives the createria to accept or reject the our hypothesis was too small accept our hypothesis. For taht reason, we rejected it. \n"
   ]
  },
  {
   "cell_type": "code",
   "execution_count": null,
   "metadata": {},
   "outputs": [],
   "source": []
  }
 ],
 "metadata": {
  "kernelspec": {
   "display_name": "Python 3",
   "language": "python",
   "name": "python3"
  },
  "language_info": {
   "codemirror_mode": {
    "name": "ipython",
    "version": 3
   },
   "file_extension": ".py",
   "mimetype": "text/x-python",
   "name": "python",
   "nbconvert_exporter": "python",
   "pygments_lexer": "ipython3",
   "version": "3.7.0"
  }
 },
 "nbformat": 4,
 "nbformat_minor": 1
}
